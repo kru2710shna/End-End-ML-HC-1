# imports 
import pandas as pd
from sklearn.model_selection import train_test_split
from sklearn.preprocessing import LabelEncoder
from sklearn.datasets import make_classification
from sklearn import svm
from sklearn.ensemble import RandomForestClassifier
from sklearn.neighbors import KNeighborsClassifier
from sklearn.naive_bayes import GaussianNB
from sklearn.metrics import confusion_matrix, accuracy_score
import numpy as np
from sklearn.ensemble import GradientBoostingClassifier
from sklearn.naive_bayes import MultinomialNB
from sklearn.svm import SVC


# Dataset
df = pd.read_csv("/Users/krushna/Downloads/Training.csv")


# Train Test Split
# Input data = X
# Traget Column = Y
X = df.drop('prognosis', axis = 1)
y = df['prognosis']
X.shape


# Feature Eng
# Label Encoding 

encoder = LabelEncoder()
encoder.fit(y)
Y = encoder.transform(y)
# Mapping of encoded values to original labels
label_mapping = dict(enumerate(encoder.classes_))




# Train Test Split 
X_train, X_test, y_train, y_test = train_test_split(X, Y, test_size = 0.3, random_state = 42)


# Training top 5 models 
# Create a dictionary 
models = {
    "SVC":SVC(kernel="linear"),
    "RandomForest": RandomForestClassifier(n_estimators=100, random_state=42),
    "GradientBossting": GradientBoostingClassifier(n_estimators=100, random_state=42),
    "KNN":KNeighborsClassifier(n_neighbors=5),
    "MultinomialNB":MultinomialNB()
}

for model_name , model in models.items():

    # train model 
    model.fit(X_train, y_train)

    # test model
    prediction = model.predict(X_test)

    # Calculate Accuracy
    accuracy = accuracy_score(y_test, prediction)

    # Clculate confusion Matrix 
    CM = confusion_matrix(y_test, prediction)


# Each Prediction and we choose best model 
svc= SVC(kernel = 'linear')
svc.fit(X_train, y_train)
ypred = svc.predict(X_test)
accuracy  = accuracy_score(y_test, ypred)


import pickle
# save model
pickle.dump(svc, open('Models/production_model.pkl', 'wb'))


# Load Model 
svc_production = pickle.load(open('Models/production_model.pkl', 'rb'))


# Test-1
print("Predicted: " , svc_production.predict(X_test.iloc[0].values.reshape(1,-1)))
print("Actual" , y_test[0])


# Test - 2
print("Predicted: " , svc_production.predict(X_test.iloc[10].values.reshape(1,-1)))
print("Actual" , y_test[10])


#Recommendation System Dataset
data_symptons = pd.read_csv("/Users/krushna/Downloads/symtoms_df.csv")
data_medication = pd.read_csv("/Users/krushna/Downloads/medications.csv")
data_diets = pd.read_csv("/Users/krushna/Downloads/diets.csv")
data_description = pd.read_csv("/Users/krushna/Downloads/description.csv")
data_precaution = pd.read_csv("/Users/krushna/Downloads/precautions_df.csv")
precautions = ['Precaution_1', 'Precaution_2','Precaution_3','Precaution_4']
data_workout = pd.read_csv("/Users/krushna/Downloads/workout_df.csv")
uti_data = data_symptons[data_symptons['Disease'] == 'Urinary tract infection']

# Print the filtered data
pd.set_option('display.max_rows', None)
pd.set_option('display.max_columns', None)
pd.set_option('display.width', None)
pd.set_option('display.max_colwidth', None)

# Print the entire DataFrame

#print(uti_data[['Symptom_1', 'Symptom_2', 'Symptom_3', 'Symptom_4']])
for column in uti_data.columns:
    unique_values = uti_data[column].unique()
    print(f"Unique values in '{column}':")
    print(unique_values)
    print("\n")


# Making dict for individual symptons 
symptons = list(df.columns)
symptons_dict = {}
for index, element in enumerate(X):
    if index == len(symptons):
        break
    symptons_dict[element] = index
symptons_dict.keys()


# Model Prediction function
def get_predicted_value(patient_symptoms):
    input_vector = np.zeros(len(symptons_dict))
    for item in patient_symptoms:
        input_vector[symptons_dict[item]] = 1
    return label_mapping[svc_production.predict([input_vector])[0]]



# # Get the Description Fucntion
# def get_description(predicted_disease):
#     if predicted_disease in data_description['Disease'].values:
#         user_disease_description = data_description.loc[data_description['Disease'] == predicted_disease, 'Description'].values[0]
#         return user_disease_description  # Add return statement
#     else:
#         print("Disease not found inside description")
#         return None  # Return None if the disease is not found

# user_disease_description = get_description(predicted_disease)
# #user_disease_description_list = user_disease_description.strip(".")
# print(user_disease_description)


# # Get the Precaution Fucntion
# #storing total precautions cols
# def get_precaution(predicted_disease):
#     if predicted_disease not in data_precaution['Disease'].values:
#         print("Disease not found inside precaution")
#         return None 
#     else:
#         return data_precaution.loc[data_precaution['Disease'] == predicted_disease, precautions]

# user_disease_precaution = get_precaution(predicted_disease)
# user_disease_precaution_list = [pre for pre in user_disease_precaution.values]



def get_everything(predicted_disease):
    user_disease_description_list = None
    user_disease_precaution_list = None
    user_disease_medication_list = None
    user_disease_diets_list = None
    user_disease_workout_list = None

    # Retrieve the description
    if predicted_disease in data_description['Disease'].values:
        user_disease_description = data_description.loc[data_description['Disease'] == predicted_disease, 'Description'].values[0]
        user_disease_description_list = user_disease_description.strip(".")
    
    # Retrieve the precautions
    if predicted_disease in data_precaution['Disease'].values:
        precautions = ['Precaution_1', 'Precaution_2', 'Precaution_3', 'Precaution_4']  # Adjust this list as needed
        user_disease_precaution = data_precaution.loc[data_precaution['Disease'] == predicted_disease, precautions].values[0]
        user_disease_precaution_list = [pre for pre in user_disease_precaution if pd.notna(pre)]
    
    # Retrieve the medication
    if predicted_disease in data_medication['Disease'].values:
        user_disease_medication = data_medication.loc[data_medication['Disease'] == predicted_disease, 'Medication'].values[0]
        user_disease_medication_list = user_disease_medication.strip(".")
    
    # Retrieve the diet
    if predicted_disease in data_diets['Disease'].values:
        user_disease_diets = data_diets.loc[data_diets['Disease'] == predicted_disease, 'Diet'].values[0]
        if isinstance(user_disease_diets, str):
            user_disease_diets_list = eval(user_disease_diets)
        else:
            user_disease_diets_list = [food for food in user_disease_diets if pd.notna(food)]
    
    # Retrieve the workout
    if predicted_disease in data_workout['disease'].values:
        user_disease_workout = data_workout.loc[data_workout['disease'] == predicted_disease, 'workout'].values
        user_disease_workout_list = [w for w in user_disease_workout if pd.notna(w)]
    
    return user_disease_description_list, user_disease_precaution_list, user_disease_medication_list, user_disease_diets_list, user_disease_workout_list



# Usage example
Symptons = input("Enter your Problem: ").lower()
user_symptons = [s.strip() for s in Symptons.split(",")]
user_sympton = [sym.strip("[]' ") for sym in user_symptons]
predicted_disease = get_predicted_value(user_sympton)
print(predicted_disease)
print("___________________________________________________")

des, pre, med, diet, workout = get_everything(predicted_disease)

# Print each field clearly
print("Description:")
print(des if des else "No information found.")

print("___________________________________________________")
print("Medication:")
if med:
    i = 1
    for item in med.split(","):  # Assuming med is a comma-separated string
        print(f"{i}. {item.strip()}")
        i += 1
else:
    print("No information found.")

print("___________________________________________________")
print("Precaution:")
if pre:
    i = 1
    for item in pre:
        print(f"{i}. {item}")
        i += 1
else:
    print("No information found.")

print("___________________________________________________")
print("Workout:")
if workout:
    i = 1
    for item in workout:
        
        print(f"{i}. {item}")
        i += 1
else:
    print("No information found.")

print("___________________________________________________")
print("Diet:")
if diet:
    i = 1
    for item in diet:
        print(f"{i}. {item}")
        i += 1
else:
    print("No information found.")


print('des' , type(des))
print('pre', type(pre))
print('workout', type(workout))
print('med', type(med))
print('diet', type(diet))


















