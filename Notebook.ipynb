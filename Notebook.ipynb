{
 "cells": [
  {
   "cell_type": "code",
   "execution_count": 1,
   "id": "3caf95ef-a4ef-4c6c-842e-b6d1bd1c7dad",
   "metadata": {},
   "outputs": [],
   "source": [
    "# imports \n",
    "import pandas as pd\n",
    "from sklearn.model_selection import train_test_split\n",
    "from sklearn.preprocessing import LabelEncoder\n",
    "from sklearn.datasets import make_classification\n",
    "from sklearn import svm\n",
    "from sklearn.ensemble import RandomForestClassifier\n",
    "from sklearn.neighbors import KNeighborsClassifier\n",
    "from sklearn.naive_bayes import GaussianNB\n",
    "from sklearn.metrics import confusion_matrix, accuracy_score\n",
    "import numpy as np\n",
    "from sklearn.ensemble import GradientBoostingClassifier\n",
    "from sklearn.naive_bayes import MultinomialNB\n",
    "from sklearn.svm import SVC\n"
   ]
  },
  {
   "cell_type": "code",
   "execution_count": 2,
   "id": "dcfdb44f-0a4d-47d0-b2c1-74bbbc8a2c61",
   "metadata": {},
   "outputs": [],
   "source": [
    "# Dataset\n",
    "df = pd.read_csv(\"/Users/krushna/Downloads/Training.csv\")"
   ]
  },
  {
   "cell_type": "code",
   "execution_count": 3,
   "id": "1cfbf6a1-617d-45e8-a01b-90b4b1528306",
   "metadata": {},
   "outputs": [],
   "source": [
    "# Train Test Split\n",
    "# Input data = X\n",
    "# Traget Column = Y\n",
    "X = df.drop('prognosis', axis = 1)\n",
    "y = df['prognosis']\n"
   ]
  },
  {
   "cell_type": "code",
   "execution_count": 4,
   "id": "c131ae26-8133-4fdb-a0b2-0ea77793357c",
   "metadata": {},
   "outputs": [],
   "source": [
    "# Feature Eng\n",
    "# Label Encoding \n",
    "\n",
    "encoder = LabelEncoder()\n",
    "encoder.fit(y)\n",
    "Y = encoder.transform(y)\n",
    "# Mapping of encoded values to original labels\n",
    "label_mapping = dict(enumerate(encoder.classes_))\n",
    "\n"
   ]
  },
  {
   "cell_type": "code",
   "execution_count": 5,
   "id": "bff11894-8049-474d-9d1b-3f747265f70e",
   "metadata": {},
   "outputs": [],
   "source": [
    "# Train Test Split \n",
    "X_train, X_test, y_train, y_test = train_test_split(X, Y, test_size = 0.3, random_state = 42)"
   ]
  },
  {
   "cell_type": "code",
   "execution_count": 6,
   "id": "5a18bda2-534e-4e40-bde2-990ce9755409",
   "metadata": {},
   "outputs": [],
   "source": [
    "# Training top 5 models\n",
    "# Create a dictionary \n",
    "models = {\n",
    "    \"SVC\":SVC(kernel=\"linear\"),\n",
    "    \"RandomForest\": RandomForestClassifier(n_estimators=100, random_state=42),\n",
    "    \"GradientBossting\": GradientBoostingClassifier(n_estimators=100, random_state=42),\n",
    "    \"KNN\":KNeighborsClassifier(n_neighbors=5),\n",
    "    \"MultinomialNB\":MultinomialNB()\n",
    "}\n",
    "\n",
    "for model_name , model in models.items():\n",
    "\n",
    "    # train model \n",
    "    model.fit(X_train, y_train)\n",
    "\n",
    "    # test model\n",
    "    prediction = model.predict(X_test)\n",
    "\n",
    "    # Calculate Accuracy\n",
    "    accuracy = accuracy_score(y_test, prediction)\n",
    "\n",
    "    # Clculate confusion Matrix \n",
    "    CM = confusion_matrix(y_test, prediction)"
   ]
  },
  {
   "cell_type": "code",
   "execution_count": 7,
   "id": "f14337c5-6c70-4306-a07f-bf4643ce0696",
   "metadata": {},
   "outputs": [],
   "source": [
    "# Each Prediction and we choose best model \n",
    "svc= SVC(kernel = 'linear')\n",
    "svc.fit(X_train, y_train)\n",
    "ypred = svc.predict(X_test)\n",
    "accuracy  = accuracy_score(y_test, ypred)"
   ]
  },
  {
   "cell_type": "code",
   "execution_count": 8,
   "id": "8fa163f3-3089-4e13-8a5f-54306b44746a",
   "metadata": {},
   "outputs": [],
   "source": [
    "import pickle\n",
    "# save model\n",
    "pickle.dump(svc, open('Models/production_model.pkl', 'wb'))"
   ]
  },
  {
   "cell_type": "code",
   "execution_count": 9,
   "id": "5f573789-d2ab-4043-8a65-79517dc191ef",
   "metadata": {},
   "outputs": [],
   "source": [
    "# Load Model \n",
    "svc_production = pickle.load(open('Models/production_model.pkl', 'rb'))"
   ]
  },
  {
   "cell_type": "code",
   "execution_count": 10,
   "id": "c0890c19-2978-4a1f-a37d-5c63a7de1ec3",
   "metadata": {},
   "outputs": [
    {
     "name": "stdout",
     "output_type": "stream",
     "text": [
      "Predicted:  [2]\n",
      "Actual 2\n"
     ]
    },
    {
     "name": "stderr",
     "output_type": "stream",
     "text": [
      "/Users/krushna/.pyenv/versions/3.10.0/lib/python3.10/site-packages/sklearn/base.py:465: UserWarning: X does not have valid feature names, but SVC was fitted with feature names\n",
      "  warnings.warn(\n"
     ]
    }
   ],
   "source": [
    "# Test-1\n",
    "print(\"Predicted: \" , svc_production.predict(X_test.iloc[0].values.reshape(1,-1)))\n",
    "print(\"Actual\" , y_test[0])"
   ]
  },
  {
   "cell_type": "code",
   "execution_count": 11,
   "id": "a5809278-3caa-4e84-b143-c390448e8262",
   "metadata": {},
   "outputs": [
    {
     "name": "stdout",
     "output_type": "stream",
     "text": [
      "Predicted:  [38]\n",
      "Actual 38\n"
     ]
    },
    {
     "name": "stderr",
     "output_type": "stream",
     "text": [
      "/Users/krushna/.pyenv/versions/3.10.0/lib/python3.10/site-packages/sklearn/base.py:465: UserWarning: X does not have valid feature names, but SVC was fitted with feature names\n",
      "  warnings.warn(\n"
     ]
    }
   ],
   "source": [
    "# Test - 2\n",
    "print(\"Predicted: \" , svc_production.predict(X_test.iloc[10].values.reshape(1,-1)))\n",
    "print(\"Actual\" , y_test[10])"
   ]
  },
  {
   "cell_type": "code",
   "execution_count": 12,
   "id": "68af3f29-0a30-4878-81c1-e520a6c4b3f8",
   "metadata": {},
   "outputs": [
    {
     "data": {
      "text/plain": [
       "0                     Avoid sugary foods\n",
       "1                     Consume probiotics\n",
       "2              Increase intake of garlic\n",
       "3                 Include yogurt in diet\n",
       "4                  Limit processed foods\n",
       "                     ...                \n",
       "405    Consult a healthcare professional\n",
       "406       Follow medical recommendations\n",
       "407                     Avoid scratching\n",
       "408          Take prescribed antibiotics\n",
       "409                  Practice wound care\n",
       "Name: workout, Length: 410, dtype: object"
      ]
     },
     "execution_count": 12,
     "metadata": {},
     "output_type": "execute_result"
    }
   ],
   "source": [
    "#Recommendation System Dataset\n",
    "data_symptons = pd.read_csv(\"/Users/krushna/Downloads/symtoms_df.csv\")\n",
    "data_medication = pd.read_csv(\"/Users/krushna/Downloads/medications.csv\")\n",
    "data_diets = pd.read_csv(\"/Users/krushna/Downloads/diets.csv\")\n",
    "data_description = pd.read_csv(\"/Users/krushna/Downloads/description.csv\")\n",
    "data_precaution = pd.read_csv(\"/Users/krushna/Downloads/precautions_df.csv\")\n",
    "precautions = ['Precaution_1', 'Precaution_2','Precaution_3','Precaution_4']\n",
    "data_workout = pd.read_csv(\"/Users/krushna/Downloads/workout_df.csv\")\n",
    "data_workout['workout']"
   ]
  },
  {
   "cell_type": "code",
   "execution_count": 13,
   "id": "5c5da06b-8c71-420d-a654-31ef54478e3d",
   "metadata": {},
   "outputs": [],
   "source": [
    "# Making dict for individual symptons \n",
    "symptons = list(df.columns)\n",
    "symptons_dict = {}\n",
    "for index, element in enumerate(symptons):\n",
    "    if index == len(symptons)-1:\n",
    "        break\n",
    "    symptons_dict[element] = index"
   ]
  },
  {
   "cell_type": "code",
   "execution_count": 14,
   "id": "e70adf62-f18c-4183-84ed-e53c02bb76d1",
   "metadata": {
    "scrolled": true
   },
   "outputs": [],
   "source": [
    "# Model Prediction function\n",
    "def get_predicted_value(patient_symptoms):\n",
    "    input_vector = np.zeros(len(symptons_dict))\n",
    "    for item in patient_symptoms:\n",
    "        input_vector[symptons_dict[item]] = 1\n",
    "    return label_mapping[svc_production.predict([input_vector])[0]]\n"
   ]
  },
  {
   "cell_type": "code",
   "execution_count": null,
   "id": "0d6737a2-06dd-4000-9331-7b6a5f8f9903",
   "metadata": {},
   "outputs": [],
   "source": []
  },
  {
   "cell_type": "code",
   "execution_count": 15,
   "id": "a6771e5d-aeca-4773-a3ed-f1fff4072ca3",
   "metadata": {},
   "outputs": [],
   "source": [
    "# # Get the Description Fucntion\n",
    "# def get_description(predicted_disease):\n",
    "#     if predicted_disease in data_description['Disease'].values:\n",
    "#         user_disease_description = data_description.loc[data_description['Disease'] == predicted_disease, 'Description'].values[0]\n",
    "#         return user_disease_description  # Add return statement\n",
    "#     else:\n",
    "#         print(\"Disease not found inside description\")\n",
    "#         return None  # Return None if the disease is not found\n",
    "\n",
    "# user_disease_description = get_description(predicted_disease)\n",
    "# #user_disease_description_list = user_disease_description.strip(\".\")\n",
    "# print(user_disease_description)"
   ]
  },
  {
   "cell_type": "code",
   "execution_count": 16,
   "id": "17d6f591-ddd3-40df-aab5-cd8fa81d7423",
   "metadata": {},
   "outputs": [],
   "source": [
    "# # Get the Precaution Fucntion\n",
    "# #storing total precautions cols\n",
    "# def get_precaution(predicted_disease):\n",
    "#     if predicted_disease not in data_precaution['Disease'].values:\n",
    "#         print(\"Disease not found inside precaution\")\n",
    "#         return None \n",
    "#     else:\n",
    "#         return data_precaution.loc[data_precaution['Disease'] == predicted_disease, precautions]\n",
    "\n",
    "# user_disease_precaution = get_precaution(predicted_disease)\n",
    "# user_disease_precaution_list = [pre for pre in user_disease_precaution.values]\n"
   ]
  },
  {
   "cell_type": "code",
   "execution_count": 17,
   "id": "28e37b19-814c-4e9e-bab0-c1f9e2ae27f6",
   "metadata": {},
   "outputs": [],
   "source": [
    "def get_everything(predicted_disease):\n",
    "    user_disease_description_list = None\n",
    "    user_disease_precaution_list = None\n",
    "    user_disease_medication_list = None\n",
    "    user_disease_diets_list = None\n",
    "    user_disease_workout_list = None\n",
    "\n",
    "    # Retrieve the description\n",
    "    if predicted_disease in data_description['Disease'].values:\n",
    "        user_disease_description = data_description.loc[data_description['Disease'] == predicted_disease, 'Description'].values[0]\n",
    "        user_disease_description_list = user_disease_description.strip(\".\")\n",
    "    \n",
    "    # Retrieve the precautions\n",
    "    if predicted_disease in data_precaution['Disease'].values:\n",
    "        precautions = ['Precaution_1', 'Precaution_2', 'Precaution_3', 'Precaution_4']  # Adjust this list as needed\n",
    "        user_disease_precaution = data_precaution.loc[data_precaution['Disease'] == predicted_disease, precautions].values[0]\n",
    "        user_disease_precaution_list = [pre for pre in user_disease_precaution if pd.notna(pre)]\n",
    "    \n",
    "    # Retrieve the medication\n",
    "    if predicted_disease in data_medication['Disease'].values:\n",
    "        user_disease_medication = data_medication.loc[data_medication['Disease'] == predicted_disease, 'Medication'].values[0]\n",
    "        user_disease_medication_list = user_disease_medication.strip(\".\")\n",
    "    \n",
    "    # Retrieve the diet\n",
    "    if predicted_disease in data_diets['Disease'].values:\n",
    "        user_disease_diets = data_diets.loc[data_diets['Disease'] == predicted_disease, 'Diet'].values[0]\n",
    "        if isinstance(user_disease_diets, str):\n",
    "            user_disease_diets_list = eval(user_disease_diets)\n",
    "        else:\n",
    "            user_disease_diets_list = [food for food in user_disease_diets if pd.notna(food)]\n",
    "    \n",
    "    # Retrieve the workout\n",
    "    if predicted_disease in data_workout['disease'].values:\n",
    "        user_disease_workout = data_workout.loc[data_workout['disease'] == predicted_disease, 'workout'].values\n",
    "        user_disease_workout_list = [w for w in user_disease_workout if pd.notna(w)]\n",
    "    \n",
    "    return user_disease_description_list, user_disease_precaution_list, user_disease_medication_list, user_disease_diets_list, user_disease_workout_list\n"
   ]
  },
  {
   "cell_type": "code",
   "execution_count": 18,
   "id": "1d1fe440-9605-45ad-a6a3-c788bbf4842d",
   "metadata": {},
   "outputs": [
    {
     "name": "stdin",
     "output_type": "stream",
     "text": [
      "Enter your Problem:  itching, stomach_pain\n"
     ]
    },
    {
     "name": "stdout",
     "output_type": "stream",
     "text": [
      "Drug Reaction\n",
      "___________________________________________________\n",
      "Description:\n",
      "Drug Reaction occurs when the body reacts adversely to a medication\n",
      "___________________________________________________\n",
      "Medication:\n",
      "1. ['Antihistamines'\n",
      "2. 'Epinephrine'\n",
      "3. 'Corticosteroids'\n",
      "4. 'Antibiotics'\n",
      "5. 'Antifungal Cream']\n",
      "___________________________________________________\n",
      "Precaution:\n",
      "1. stop irritation\n",
      "2. consult nearest hospital\n",
      "3. stop taking drug\n",
      "4. follow up\n",
      "___________________________________________________\n",
      "Workout:\n",
      "1. Discontinue offending medication\n",
      "2. Stay hydrated\n",
      "3. Include anti-inflammatory foods\n",
      "4. Consume antioxidants\n",
      "5. Avoid trigger foods\n",
      "6. Include omega-3 fatty acids\n",
      "7. Limit caffeine and alcohol\n",
      "8. Stay hydrated\n",
      "9. Eat a balanced diet\n",
      "10. Consult a healthcare professional\n",
      "___________________________________________________\n",
      "Diet:\n",
      "1. Antihistamine Diet\n",
      "2. Omega-3-rich foods\n",
      "3. Vitamin C-rich foods\n",
      "4. Quercetin-rich foods\n",
      "5. Probiotics\n"
     ]
    },
    {
     "name": "stderr",
     "output_type": "stream",
     "text": [
      "/Users/krushna/.pyenv/versions/3.10.0/lib/python3.10/site-packages/sklearn/base.py:465: UserWarning: X does not have valid feature names, but SVC was fitted with feature names\n",
      "  warnings.warn(\n"
     ]
    }
   ],
   "source": [
    "# Usage example\n",
    "Symptons = input(\"Enter your Problem: \")\n",
    "user_symptons = [s.strip() for s in Symptons.split(\",\")]\n",
    "user_sympton = [sym.strip(\"[]' \") for sym in user_symptons]\n",
    "predicted_disease = get_predicted_value(user_sympton)\n",
    "print(predicted_disease)\n",
    "print(\"___________________________________________________\")\n",
    "\n",
    "des, pre, med, diet, workout = get_everything(predicted_disease)\n",
    "\n",
    "# Print each field clearly\n",
    "print(\"Description:\")\n",
    "print(des if des else \"No information found.\")\n",
    "\n",
    "print(\"___________________________________________________\")\n",
    "print(\"Medication:\")\n",
    "if med:\n",
    "    i = 1\n",
    "    for item in med.split(\",\"):  # Assuming med is a comma-separated string\n",
    "        print(f\"{i}. {item.strip()}\")\n",
    "        i += 1\n",
    "else:\n",
    "    print(\"No information found.\")\n",
    "\n",
    "print(\"___________________________________________________\")\n",
    "print(\"Precaution:\")\n",
    "if pre:\n",
    "    i = 1\n",
    "    for item in pre:\n",
    "        print(f\"{i}. {item}\")\n",
    "        i += 1\n",
    "else:\n",
    "    print(\"No information found.\")\n",
    "\n",
    "print(\"___________________________________________________\")\n",
    "print(\"Workout:\")\n",
    "if workout:\n",
    "    i = 1\n",
    "    for item in workout:\n",
    "        print(f\"{i}. {item}\")\n",
    "        i += 1\n",
    "else:\n",
    "    print(\"No information found.\")\n",
    "\n",
    "print(\"___________________________________________________\")\n",
    "print(\"Diet:\")\n",
    "if diet:\n",
    "    i = 1\n",
    "    for item in diet:\n",
    "        print(f\"{i}. {item}\")\n",
    "        i += 1\n",
    "else:\n",
    "    print(\"No information found.\")"
   ]
  },
  {
   "cell_type": "code",
   "execution_count": 19,
   "id": "d6686089-c038-4444-ae8f-a669ac444ad6",
   "metadata": {},
   "outputs": [
    {
     "name": "stdout",
     "output_type": "stream",
     "text": [
      "des <class 'str'>\n",
      "pre <class 'list'>\n",
      "workout <class 'list'>\n",
      "med <class 'str'>\n",
      "diet <class 'list'>\n"
     ]
    }
   ],
   "source": [
    "print('des' , type(des))\n",
    "print('pre', type(pre))\n",
    "print('workout', type(workout))\n",
    "print('med', type(med))\n",
    "print('diet', type(diet))"
   ]
  },
  {
   "cell_type": "code",
   "execution_count": null,
   "id": "35aa6c6b-bb36-4918-93cf-9ae5f983538a",
   "metadata": {},
   "outputs": [],
   "source": []
  },
  {
   "cell_type": "code",
   "execution_count": null,
   "id": "e15e1098-2e27-4014-91cb-1690bf59b43f",
   "metadata": {},
   "outputs": [],
   "source": []
  },
  {
   "cell_type": "code",
   "execution_count": null,
   "id": "36d1ac53-2902-4447-b4eb-2a7ea2538f33",
   "metadata": {},
   "outputs": [],
   "source": []
  },
  {
   "cell_type": "code",
   "execution_count": null,
   "id": "7d04db8e-c836-4f02-9feb-0fccadae7859",
   "metadata": {},
   "outputs": [],
   "source": []
  },
  {
   "cell_type": "code",
   "execution_count": null,
   "id": "8f8dc923-4418-4897-90cb-a2dcc81e1a1c",
   "metadata": {},
   "outputs": [],
   "source": []
  },
  {
   "cell_type": "code",
   "execution_count": null,
   "id": "4a9e0ef9-ac15-4a61-9d16-ca91ef1ba23a",
   "metadata": {},
   "outputs": [],
   "source": []
  }
 ],
 "metadata": {
  "kernelspec": {
   "display_name": "Python 3 (ipykernel)",
   "language": "python",
   "name": "python3"
  },
  "language_info": {
   "codemirror_mode": {
    "name": "ipython",
    "version": 3
   },
   "file_extension": ".py",
   "mimetype": "text/x-python",
   "name": "python",
   "nbconvert_exporter": "python",
   "pygments_lexer": "ipython3",
   "version": "3.10.0"
  }
 },
 "nbformat": 4,
 "nbformat_minor": 5
}
