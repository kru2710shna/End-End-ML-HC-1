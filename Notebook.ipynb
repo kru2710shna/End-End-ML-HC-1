{
 "cells": [
  {
   "cell_type": "code",
   "execution_count": 4,
   "id": "3caf95ef-a4ef-4c6c-842e-b6d1bd1c7dad",
   "metadata": {},
   "outputs": [],
   "source": [
    "# imports \n",
    "import pandas as pd\n",
    "from sklearn.model_selection import train_test_split\n",
    "from sklearn.preprocessing import LabelEncoder\n",
    "from sklearn.datasets import make_classification\n",
    "from sklearn import svm\n",
    "from sklearn.ensemble import RandomForestClassifier\n",
    "from sklearn.neighbors import KNeighborsClassifier\n",
    "from sklearn.naive_bayes import GaussianNB\n",
    "from sklearn.metrics import confusion_matrix, accuracy_score\n",
    "import numpy as np\n",
    "from sklearn.ensemble import GradientBoostingClassifier\n",
    "from sklearn.naive_bayes import MultinomialNB\n",
    "from sklearn.svm import SVC"
   ]
  },
  {
   "cell_type": "code",
   "execution_count": 5,
   "id": "dcfdb44f-0a4d-47d0-b2c1-74bbbc8a2c61",
   "metadata": {},
   "outputs": [],
   "source": [
    "# Dataset\n",
    "df = pd.read_csv(\"/Users/krushna/Downloads/Training.csv\")"
   ]
  },
  {
   "cell_type": "code",
   "execution_count": 6,
   "id": "1cfbf6a1-617d-45e8-a01b-90b4b1528306",
   "metadata": {},
   "outputs": [
    {
     "data": {
      "text/plain": [
       "(4920, 132)"
      ]
     },
     "execution_count": 6,
     "metadata": {},
     "output_type": "execute_result"
    }
   ],
   "source": [
    "# Train Test Split\n",
    "# Input data = X\n",
    "# Traget Column = Y\n",
    "X = df.drop('prognosis', axis = 1)\n",
    "y = df['prognosis']\n",
    "X.shape"
   ]
  },
  {
   "cell_type": "code",
   "execution_count": 7,
   "id": "c131ae26-8133-4fdb-a0b2-0ea77793357c",
   "metadata": {},
   "outputs": [],
   "source": [
    "# Feature Eng\n",
    "# Label Encoding \n",
    "\n",
    "encoder = LabelEncoder()\n",
    "encoder.fit(y)\n",
    "Y = encoder.transform(y)\n",
    "# Mapping of encoded values to original labels\n",
    "label_mapping = dict(enumerate(encoder.classes_))\n",
    "\n"
   ]
  },
  {
   "cell_type": "code",
   "execution_count": 9,
   "id": "bff11894-8049-474d-9d1b-3f747265f70e",
   "metadata": {},
   "outputs": [],
   "source": [
    "# Train Test Split \n",
    "X_train, X_test, y_train, y_test = train_test_split(X, Y, test_size = 0.3, random_state = 42)"
   ]
  },
  {
   "cell_type": "code",
   "execution_count": 10,
   "id": "5a18bda2-534e-4e40-bde2-990ce9755409",
   "metadata": {},
   "outputs": [],
   "source": [
    "# Training top 5 models \n",
    "# Create a dictionary \n",
    "models = {\n",
    "    \"SVC\":SVC(kernel=\"linear\"),\n",
    "    \"RandomForest\": RandomForestClassifier(n_estimators=100, random_state=42),\n",
    "    \"GradientBossting\": GradientBoostingClassifier(n_estimators=100, random_state=42),\n",
    "    \"KNN\":KNeighborsClassifier(n_neighbors=5),\n",
    "    \"MultinomialNB\":MultinomialNB()\n",
    "}\n",
    "\n",
    "for model_name , model in models.items():\n",
    "\n",
    "    # train model \n",
    "    model.fit(X_train, y_train)\n",
    "\n",
    "    # test model\n",
    "    prediction = model.predict(X_test)\n",
    "\n",
    "    # Calculate Accuracy\n",
    "    accuracy = accuracy_score(y_test, prediction)\n",
    "\n",
    "    # Clculate confusion Matrix \n",
    "    CM = confusion_matrix(y_test, prediction)"
   ]
  },
  {
   "cell_type": "code",
   "execution_count": 11,
   "id": "f14337c5-6c70-4306-a07f-bf4643ce0696",
   "metadata": {},
   "outputs": [],
   "source": [
    "# Each Prediction and we choose best model \n",
    "svc= SVC(kernel = 'linear')\n",
    "svc.fit(X_train, y_train)\n",
    "ypred = svc.predict(X_test)\n",
    "accuracy  = accuracy_score(y_test, ypred)"
   ]
  },
  {
   "cell_type": "code",
   "execution_count": 12,
   "id": "8fa163f3-3089-4e13-8a5f-54306b44746a",
   "metadata": {},
   "outputs": [],
   "source": [
    "import pickle\n",
    "# save model\n",
    "pickle.dump(svc, open('Models/production_model.pkl', 'wb'))"
   ]
  },
  {
   "cell_type": "code",
   "execution_count": 13,
   "id": "5f573789-d2ab-4043-8a65-79517dc191ef",
   "metadata": {},
   "outputs": [],
   "source": [
    "# Load Model \n",
    "svc_production = pickle.load(open('Models/production_model.pkl', 'rb'))"
   ]
  },
  {
   "cell_type": "code",
   "execution_count": 14,
   "id": "c0890c19-2978-4a1f-a37d-5c63a7de1ec3",
   "metadata": {},
   "outputs": [
    {
     "name": "stdout",
     "output_type": "stream",
     "text": [
      "Predicted:  [2]\n",
      "Actual 2\n"
     ]
    },
    {
     "name": "stderr",
     "output_type": "stream",
     "text": [
      "/opt/anaconda3/lib/python3.11/site-packages/sklearn/base.py:493: UserWarning: X does not have valid feature names, but SVC was fitted with feature names\n",
      "  warnings.warn(\n"
     ]
    }
   ],
   "source": [
    "# Test-1\n",
    "print(\"Predicted: \" , svc_production.predict(X_test.iloc[0].values.reshape(1,-1)))\n",
    "print(\"Actual\" , y_test[0])"
   ]
  },
  {
   "cell_type": "code",
   "execution_count": 15,
   "id": "a5809278-3caa-4e84-b143-c390448e8262",
   "metadata": {},
   "outputs": [
    {
     "name": "stdout",
     "output_type": "stream",
     "text": [
      "Predicted:  [38]\n",
      "Actual 38\n"
     ]
    },
    {
     "name": "stderr",
     "output_type": "stream",
     "text": [
      "/opt/anaconda3/lib/python3.11/site-packages/sklearn/base.py:493: UserWarning: X does not have valid feature names, but SVC was fitted with feature names\n",
      "  warnings.warn(\n"
     ]
    }
   ],
   "source": [
    "# Test - 2\n",
    "print(\"Predicted: \" , svc_production.predict(X_test.iloc[10].values.reshape(1,-1)))\n",
    "print(\"Actual\" , y_test[10])"
   ]
  },
  {
   "cell_type": "code",
   "execution_count": 16,
   "id": "68af3f29-0a30-4878-81c1-e520a6c4b3f8",
   "metadata": {},
   "outputs": [
    {
     "name": "stdout",
     "output_type": "stream",
     "text": [
      "Unique values in 'Unnamed: 0':\n",
      "[ 380  381  382  383  384  385  386  387  388  389  790  791  792  793\n",
      "  794  795  796  797  798  799 1200 1201 1202 1203 1204 1205 1206 1207\n",
      " 1208 1209 1610 1611 1612 1613 1614 1615 1616 1617 1618 1619 2020 2021\n",
      " 2022 2023 2024 2025 2026 2027 2028 2029 2430 2431 2432 2433 2434 2435\n",
      " 2436 2437 2438 2439 2498 2539 2580 2621 2662 2703 2744 2785 2826 2867\n",
      " 2908 2949 2990 3031 3072 3113 3154 3195 3236 3277 3318 3359 3400 3441\n",
      " 3482 3523 3564 3605 3646 3687 3728 3769 3810 3851 3892 3933 3974 4015\n",
      " 4056 4097 4138 4179 4220 4261 4302 4343 4384 4425 4466 4507 4548 4589\n",
      " 4630 4671 4712 4753 4794 4835 4876 4917]\n",
      "\n",
      "\n",
      "Unique values in 'Disease':\n",
      "['Urinary tract infection']\n",
      "\n",
      "\n",
      "Unique values in 'Symptom_1':\n",
      "[' burning_micturition' ' bladder_discomfort']\n",
      "\n",
      "\n",
      "Unique values in 'Symptom_2':\n",
      "[' bladder_discomfort' ' foul_smell_of urine']\n",
      "\n",
      "\n",
      "Unique values in 'Symptom_3':\n",
      "[' foul_smell_of urine' ' continuous_feel_of_urine']\n",
      "\n",
      "\n",
      "Unique values in 'Symptom_4':\n",
      "[' continuous_feel_of_urine' nan]\n",
      "\n",
      "\n"
     ]
    }
   ],
   "source": [
    "#Recommendation System Dataset\n",
    "data_symptons = pd.read_csv(\"/Users/krushna/Downloads/symtoms_df.csv\")\n",
    "data_medication = pd.read_csv(\"/Users/krushna/Downloads/medications.csv\")\n",
    "data_diets = pd.read_csv(\"/Users/krushna/Downloads/diets.csv\")\n",
    "data_description = pd.read_csv(\"/Users/krushna/Downloads/description.csv\")\n",
    "data_precaution = pd.read_csv(\"/Users/krushna/Downloads/precautions_df.csv\")\n",
    "precautions = ['Precaution_1', 'Precaution_2','Precaution_3','Precaution_4']\n",
    "data_workout = pd.read_csv(\"/Users/krushna/Downloads/workout_df.csv\")\n",
    "uti_data = data_symptons[data_symptons['Disease'] == 'Urinary tract infection']\n",
    "\n",
    "# Print the filtered data\n",
    "pd.set_option('display.max_rows', None)\n",
    "pd.set_option('display.max_columns', None)\n",
    "pd.set_option('display.width', None)\n",
    "pd.set_option('display.max_colwidth', None)\n",
    "\n",
    "# Print the entire DataFrame\n",
    "\n",
    "#print(uti_data[['Symptom_1', 'Symptom_2', 'Symptom_3', 'Symptom_4']])\n",
    "for column in uti_data.columns:\n",
    "    unique_values = uti_data[column].unique()\n",
    "    print(f\"Unique values in '{column}':\")\n",
    "    print(unique_values)\n",
    "    print(\"\\n\")"
   ]
  },
  {
   "cell_type": "code",
   "execution_count": 17,
   "id": "5c5da06b-8c71-420d-a654-31ef54478e3d",
   "metadata": {},
   "outputs": [
    {
     "data": {
      "text/plain": [
       "{'itching': 0,\n",
       " 'skin_rash': 1,\n",
       " 'nodal_skin_eruptions': 2,\n",
       " 'continuous_sneezing': 3,\n",
       " 'shivering': 4,\n",
       " 'chills': 5,\n",
       " 'joint_pain': 6,\n",
       " 'stomach_pain': 7,\n",
       " 'acidity': 8,\n",
       " 'ulcers_on_tongue': 9,\n",
       " 'muscle_wasting': 10,\n",
       " 'vomiting': 11,\n",
       " 'burning_micturition': 12,\n",
       " 'spotting_ urination': 13,\n",
       " 'fatigue': 14,\n",
       " 'weight_gain': 15,\n",
       " 'anxiety': 16,\n",
       " 'cold_hands_and_feets': 17,\n",
       " 'mood_swings': 18,\n",
       " 'weight_loss': 19,\n",
       " 'restlessness': 20,\n",
       " 'lethargy': 21,\n",
       " 'patches_in_throat': 22,\n",
       " 'irregular_sugar_level': 23,\n",
       " 'cough': 24,\n",
       " 'high_fever': 25,\n",
       " 'sunken_eyes': 26,\n",
       " 'breathlessness': 27,\n",
       " 'sweating': 28,\n",
       " 'dehydration': 29,\n",
       " 'indigestion': 30,\n",
       " 'headache': 31,\n",
       " 'yellowish_skin': 32,\n",
       " 'dark_urine': 33,\n",
       " 'nausea': 34,\n",
       " 'loss_of_appetite': 35,\n",
       " 'pain_behind_the_eyes': 36,\n",
       " 'back_pain': 37,\n",
       " 'constipation': 38,\n",
       " 'abdominal_pain': 39,\n",
       " 'diarrhoea': 40,\n",
       " 'mild_fever': 41,\n",
       " 'yellow_urine': 42,\n",
       " 'yellowing_of_eyes': 43,\n",
       " 'acute_liver_failure': 44,\n",
       " 'fluid_overload': 45,\n",
       " 'swelling_of_stomach': 46,\n",
       " 'swelled_lymph_nodes': 47,\n",
       " 'malaise': 48,\n",
       " 'blurred_and_distorted_vision': 49,\n",
       " 'phlegm': 50,\n",
       " 'throat_irritation': 51,\n",
       " 'redness_of_eyes': 52,\n",
       " 'sinus_pressure': 53,\n",
       " 'runny_nose': 54,\n",
       " 'congestion': 55,\n",
       " 'chest_pain': 56,\n",
       " 'weakness_in_limbs': 57,\n",
       " 'fast_heart_rate': 58,\n",
       " 'pain_during_bowel_movements': 59,\n",
       " 'pain_in_anal_region': 60,\n",
       " 'bloody_stool': 61,\n",
       " 'irritation_in_anus': 62,\n",
       " 'neck_pain': 63,\n",
       " 'dizziness': 64,\n",
       " 'cramps': 65,\n",
       " 'bruising': 66,\n",
       " 'obesity': 67,\n",
       " 'swollen_legs': 68,\n",
       " 'swollen_blood_vessels': 69,\n",
       " 'puffy_face_and_eyes': 70,\n",
       " 'enlarged_thyroid': 71,\n",
       " 'brittle_nails': 72,\n",
       " 'swollen_extremeties': 73,\n",
       " 'excessive_hunger': 74,\n",
       " 'extra_marital_contacts': 75,\n",
       " 'drying_and_tingling_lips': 76,\n",
       " 'slurred_speech': 77,\n",
       " 'knee_pain': 78,\n",
       " 'hip_joint_pain': 79,\n",
       " 'muscle_weakness': 80,\n",
       " 'stiff_neck': 81,\n",
       " 'swelling_joints': 82,\n",
       " 'movement_stiffness': 83,\n",
       " 'spinning_movements': 84,\n",
       " 'loss_of_balance': 85,\n",
       " 'unsteadiness': 86,\n",
       " 'weakness_of_one_body_side': 87,\n",
       " 'loss_of_smell': 88,\n",
       " 'bladder_discomfort': 89,\n",
       " 'foul_smell_of urine': 90,\n",
       " 'continuous_feel_of_urine': 91,\n",
       " 'passage_of_gases': 92,\n",
       " 'internal_itching': 93,\n",
       " 'toxic_look_(typhos)': 94,\n",
       " 'depression': 95,\n",
       " 'irritability': 96,\n",
       " 'muscle_pain': 97,\n",
       " 'altered_sensorium': 98,\n",
       " 'red_spots_over_body': 99,\n",
       " 'belly_pain': 100,\n",
       " 'abnormal_menstruation': 101,\n",
       " 'dischromic _patches': 102,\n",
       " 'watering_from_eyes': 103,\n",
       " 'increased_appetite': 104,\n",
       " 'polyuria': 105,\n",
       " 'family_history': 106,\n",
       " 'mucoid_sputum': 107,\n",
       " 'rusty_sputum': 108,\n",
       " 'lack_of_concentration': 109,\n",
       " 'visual_disturbances': 110,\n",
       " 'receiving_blood_transfusion': 111,\n",
       " 'receiving_unsterile_injections': 112,\n",
       " 'coma': 113,\n",
       " 'stomach_bleeding': 114,\n",
       " 'distention_of_abdomen': 115,\n",
       " 'history_of_alcohol_consumption': 116,\n",
       " 'fluid_overload.1': 117,\n",
       " 'blood_in_sputum': 118,\n",
       " 'prominent_veins_on_calf': 119,\n",
       " 'palpitations': 120,\n",
       " 'painful_walking': 121,\n",
       " 'pus_filled_pimples': 122,\n",
       " 'blackheads': 123,\n",
       " 'scurring': 124,\n",
       " 'skin_peeling': 125,\n",
       " 'silver_like_dusting': 126,\n",
       " 'small_dents_in_nails': 127,\n",
       " 'inflammatory_nails': 128,\n",
       " 'blister': 129,\n",
       " 'red_sore_around_nose': 130,\n",
       " 'yellow_crust_ooze': 131}"
      ]
     },
     "execution_count": 17,
     "metadata": {},
     "output_type": "execute_result"
    }
   ],
   "source": [
    "# Making dict for individual symptons \n",
    "symptons = list(df.columns)\n",
    "symptons_dict = {}\n",
    "for index, element in enumerate(X):\n",
    "    if index == len(symptons):\n",
    "        break\n",
    "    symptons_dict[element] = index\n",
    "symptons_dict"
   ]
  },
  {
   "cell_type": "code",
   "execution_count": 18,
   "id": "e70adf62-f18c-4183-84ed-e53c02bb76d1",
   "metadata": {
    "scrolled": true
   },
   "outputs": [],
   "source": [
    "# Model Prediction function\n",
    "def get_predicted_value(patient_symptoms):\n",
    "    input_vector = np.zeros(len(symptons_dict))\n",
    "    for item in patient_symptoms:\n",
    "        input_vector[symptons_dict[item]] = 1\n",
    "    return label_mapping[svc_production.predict([input_vector])[0]]\n"
   ]
  },
  {
   "cell_type": "code",
   "execution_count": 19,
   "id": "a6771e5d-aeca-4773-a3ed-f1fff4072ca3",
   "metadata": {},
   "outputs": [],
   "source": [
    "# # Get the Description Fucntion\n",
    "# def get_description(predicted_disease):\n",
    "#     if predicted_disease in data_description['Disease'].values:\n",
    "#         user_disease_description = data_description.loc[data_description['Disease'] == predicted_disease, 'Description'].values[0]\n",
    "#         return user_disease_description  # Add return statement\n",
    "#     else:\n",
    "#         print(\"Disease not found inside description\")\n",
    "#         return None  # Return None if the disease is not found\n",
    "\n",
    "# user_disease_description = get_description(predicted_disease)\n",
    "# #user_disease_description_list = user_disease_description.strip(\".\")\n",
    "# print(user_disease_description)"
   ]
  },
  {
   "cell_type": "code",
   "execution_count": 20,
   "id": "17d6f591-ddd3-40df-aab5-cd8fa81d7423",
   "metadata": {},
   "outputs": [],
   "source": [
    "# # Get the Precaution Fucntion\n",
    "# #storing total precautions cols\n",
    "# def get_precaution(predicted_disease):\n",
    "#     if predicted_disease not in data_precaution['Disease'].values:\n",
    "#         print(\"Disease not found inside precaution\")\n",
    "#         return None \n",
    "#     else:\n",
    "#         return data_precaution.loc[data_precaution['Disease'] == predicted_disease, precautions]\n",
    "\n",
    "# user_disease_precaution = get_precaution(predicted_disease)\n",
    "# user_disease_precaution_list = [pre for pre in user_disease_precaution.values]\n"
   ]
  },
  {
   "cell_type": "code",
   "execution_count": 21,
   "id": "28e37b19-814c-4e9e-bab0-c1f9e2ae27f6",
   "metadata": {},
   "outputs": [],
   "source": [
    "def get_everything(predicted_disease):\n",
    "    user_disease_description_list = None\n",
    "    user_disease_precaution_list = None\n",
    "    user_disease_medication_list = None\n",
    "    user_disease_diets_list = None\n",
    "    user_disease_workout_list = None\n",
    "\n",
    "    # Retrieve the description\n",
    "    if predicted_disease in data_description['Disease'].values:\n",
    "        user_disease_description = data_description.loc[data_description['Disease'] == predicted_disease, 'Description'].values[0]\n",
    "        user_disease_description_list = user_disease_description.strip(\".\")\n",
    "    \n",
    "    # Retrieve the precautions\n",
    "    if predicted_disease in data_precaution['Disease'].values:\n",
    "        precautions = ['Precaution_1', 'Precaution_2', 'Precaution_3', 'Precaution_4']  # Adjust this list as needed\n",
    "        user_disease_precaution = data_precaution.loc[data_precaution['Disease'] == predicted_disease, precautions].values[0]\n",
    "        user_disease_precaution_list = [pre for pre in user_disease_precaution if pd.notna(pre)]\n",
    "    \n",
    "    # Retrieve the medication\n",
    "    if predicted_disease in data_medication['Disease'].values:\n",
    "        user_disease_medication = data_medication.loc[data_medication['Disease'] == predicted_disease, 'Medication'].values[0]\n",
    "        user_disease_medication_list = user_disease_medication.strip(\".\")\n",
    "    \n",
    "    # Retrieve the diet\n",
    "    if predicted_disease in data_diets['Disease'].values:\n",
    "        user_disease_diets = data_diets.loc[data_diets['Disease'] == predicted_disease, 'Diet'].values[0]\n",
    "        if isinstance(user_disease_diets, str):\n",
    "            user_disease_diets_list = eval(user_disease_diets)\n",
    "        else:\n",
    "            user_disease_diets_list = [food for food in user_disease_diets if pd.notna(food)]\n",
    "    \n",
    "    # Retrieve the workout\n",
    "    if predicted_disease in data_workout['disease'].values:\n",
    "        user_disease_workout = data_workout.loc[data_workout['disease'] == predicted_disease, 'workout'].values\n",
    "        user_disease_workout_list = [w for w in user_disease_workout if pd.notna(w)]\n",
    "    \n",
    "    return user_disease_description_list, user_disease_precaution_list, user_disease_medication_list, user_disease_diets_list, user_disease_workout_list\n"
   ]
  },
  {
   "cell_type": "code",
   "execution_count": 22,
   "id": "1d1fe440-9605-45ad-a6a3-c788bbf4842d",
   "metadata": {},
   "outputs": [
    {
     "name": "stdin",
     "output_type": "stream",
     "text": [
      "Enter your Problem:  headache\n"
     ]
    },
    {
     "name": "stdout",
     "output_type": "stream",
     "text": [
      "Paralysis (brain hemorrhage)\n",
      "___________________________________________________\n",
      "Description:\n",
      "Paralysis (brain hemorrhage) refers to the loss of muscle function due to bleeding in the brain\n",
      "___________________________________________________\n",
      "Medication:\n",
      "1. ['Blood thinners'\n",
      "2. 'Clot-dissolving medications'\n",
      "3. 'Anticonvulsants'\n",
      "4. 'Physical therapy'\n",
      "5. 'Occupational therapy']\n",
      "___________________________________________________\n",
      "Precaution:\n",
      "1. massage\n",
      "2. eat healthy\n",
      "3. exercise\n",
      "4. consult doctor\n",
      "___________________________________________________\n",
      "Workout:\n",
      "1. Follow a balanced and nutritious diet\n",
      "2. Include lean proteins\n",
      "3. Consume nutrient-rich foods\n",
      "4. Stay hydrated\n",
      "5. Include healthy fats\n",
      "6. Limit sugary foods and beverages\n",
      "7. Include antioxidants\n",
      "8. Consume foods rich in vitamin K\n",
      "9. Consult a healthcare professional\n",
      "10. Manage stress\n",
      "___________________________________________________\n",
      "Diet:\n",
      "1. Heart-Healthy Diet\n",
      "2. Low-sodium foods\n",
      "3. Fruits and vegetables\n",
      "4. Whole grains\n",
      "5. Lean proteins\n"
     ]
    },
    {
     "name": "stderr",
     "output_type": "stream",
     "text": [
      "/opt/anaconda3/lib/python3.11/site-packages/sklearn/base.py:493: UserWarning: X does not have valid feature names, but SVC was fitted with feature names\n",
      "  warnings.warn(\n"
     ]
    }
   ],
   "source": [
    "# Usage example\n",
    "Symptons = input(\"Enter your Problem: \").lower()\n",
    "user_symptons = [s.strip() for s in Symptons.split(\",\")]\n",
    "user_sympton = [sym.strip(\"[]' \") for sym in user_symptons]\n",
    "predicted_disease = get_predicted_value(user_sympton)\n",
    "print(predicted_disease)\n",
    "print(\"___________________________________________________\")\n",
    "\n",
    "des, pre, med, diet, workout = get_everything(predicted_disease)\n",
    "\n",
    "# Print each field clearly\n",
    "print(\"Description:\")\n",
    "print(des if des else \"No information found.\")\n",
    "\n",
    "print(\"___________________________________________________\")\n",
    "print(\"Medication:\")\n",
    "if med:\n",
    "    i = 1\n",
    "    for item in med.split(\",\"):  # Assuming med is a comma-separated string\n",
    "        print(f\"{i}. {item.strip()}\")\n",
    "        i += 1\n",
    "else:\n",
    "    print(\"No information found.\")\n",
    "\n",
    "print(\"___________________________________________________\")\n",
    "print(\"Precaution:\")\n",
    "if pre:\n",
    "    i = 1\n",
    "    for item in pre:\n",
    "        print(f\"{i}. {item}\")\n",
    "        i += 1\n",
    "else:\n",
    "    print(\"No information found.\")\n",
    "\n",
    "print(\"___________________________________________________\")\n",
    "print(\"Workout:\")\n",
    "if workout:\n",
    "    i = 1\n",
    "    for item in workout:\n",
    "        \n",
    "        print(f\"{i}. {item}\")\n",
    "        i += 1\n",
    "else:\n",
    "    print(\"No information found.\")\n",
    "\n",
    "print(\"___________________________________________________\")\n",
    "print(\"Diet:\")\n",
    "if diet:\n",
    "    i = 1\n",
    "    for item in diet:\n",
    "        print(f\"{i}. {item}\")\n",
    "        i += 1\n",
    "else:\n",
    "    print(\"No information found.\")"
   ]
  },
  {
   "cell_type": "code",
   "execution_count": 23,
   "id": "d6686089-c038-4444-ae8f-a669ac444ad6",
   "metadata": {},
   "outputs": [
    {
     "name": "stdout",
     "output_type": "stream",
     "text": [
      "des <class 'str'>\n",
      "pre <class 'list'>\n",
      "workout <class 'list'>\n",
      "med <class 'str'>\n",
      "diet <class 'list'>\n"
     ]
    }
   ],
   "source": [
    "print('des' , type(des))\n",
    "print('pre', type(pre))\n",
    "print('workout', type(workout))\n",
    "print('med', type(med))\n",
    "print('diet', type(diet))"
   ]
  },
  {
   "cell_type": "code",
   "execution_count": null,
   "id": "35aa6c6b-bb36-4918-93cf-9ae5f983538a",
   "metadata": {},
   "outputs": [],
   "source": []
  },
  {
   "cell_type": "code",
   "execution_count": null,
   "id": "e15e1098-2e27-4014-91cb-1690bf59b43f",
   "metadata": {},
   "outputs": [],
   "source": []
  },
  {
   "cell_type": "code",
   "execution_count": null,
   "id": "36d1ac53-2902-4447-b4eb-2a7ea2538f33",
   "metadata": {},
   "outputs": [],
   "source": []
  },
  {
   "cell_type": "code",
   "execution_count": null,
   "id": "7d04db8e-c836-4f02-9feb-0fccadae7859",
   "metadata": {},
   "outputs": [],
   "source": []
  },
  {
   "cell_type": "code",
   "execution_count": null,
   "id": "8f8dc923-4418-4897-90cb-a2dcc81e1a1c",
   "metadata": {},
   "outputs": [],
   "source": []
  },
  {
   "cell_type": "code",
   "execution_count": null,
   "id": "4a9e0ef9-ac15-4a61-9d16-ca91ef1ba23a",
   "metadata": {},
   "outputs": [],
   "source": []
  }
 ],
 "metadata": {
  "kernelspec": {
   "display_name": "Python 3 (ipykernel)",
   "language": "python",
   "name": "python3"
  },
  "language_info": {
   "codemirror_mode": {
    "name": "ipython",
    "version": 3
   },
   "file_extension": ".py",
   "mimetype": "text/x-python",
   "name": "python",
   "nbconvert_exporter": "python",
   "pygments_lexer": "ipython3",
   "version": "3.11.7"
  }
 },
 "nbformat": 4,
 "nbformat_minor": 5
}
